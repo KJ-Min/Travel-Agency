{
 "cells": [
  {
   "cell_type": "code",
   "execution_count": 1,
   "metadata": {},
   "outputs": [
    {
     "data": {
      "text/plain": [
       "True"
      ]
     },
     "execution_count": 1,
     "metadata": {},
     "output_type": "execute_result"
    }
   ],
   "source": [
    "# API 키를 환경변수로 관리하기 위한 설정 파일\n",
    "from dotenv import load_dotenv\n",
    "\n",
    "# API 키 정보 로드\n",
    "load_dotenv()"
   ]
  },
  {
   "cell_type": "code",
   "execution_count": 2,
   "metadata": {},
   "outputs": [
    {
     "name": "stdout",
     "output_type": "stream",
     "text": [
      "LangSmith 추적을 시작합니다.\n",
      "[프로젝트명]\n",
      "Restaurant Finder\n"
     ]
    }
   ],
   "source": [
    "from langchain_teddynote import logging\n",
    "\n",
    "# 프로젝트 이름을 입력합니다.\n",
    "logging.langsmith(\"Restaurant Finder\")"
   ]
  },
  {
   "cell_type": "code",
   "execution_count": 3,
   "metadata": {},
   "outputs": [
    {
     "name": "stdout",
     "output_type": "stream",
     "text": [
      "현재 작업 디렉토리: e:\\STUDY\\Python\\Capstone\\Travel Agent\n"
     ]
    }
   ],
   "source": [
    "import os\n",
    "\n",
    "# 현재 작업 디렉토리 경로 확인\n",
    "current_dir = os.getcwd()\n",
    "print(\"현재 작업 디렉토리:\", current_dir)"
   ]
  },
  {
   "cell_type": "code",
   "execution_count": 4,
   "metadata": {},
   "outputs": [
    {
     "name": "stdout",
     "output_type": "stream",
     "text": [
      "100\n",
      "page_content='﻿RSTR_ID: 112467\n",
      "markdown_content: # 더밥하우스\n",
      "\n",
      "## 기본 정보\n",
      "- 위치: 부산광역시 사하구 낙동대로516번길 17\n",
      "- 업종: 경양식\n",
      "- 영업허가: 일반음식점\n",
      "- 지역: 부산광역시 사하구\n",
      "\n",
      "## 상세 설명\n",
      "부산광역시 사하구에서 맛집을 찾으신다면 \"더밥하우스\"를 추천합니다.\n",
      "\n",
      "## 운영 정보\n",
      "- 영업시간: 매일 10:00~22:00\n",
      "- 휴무일: 토요일\n",
      "- 네이버 평점: 4.3299999\n",
      "\n",
      "## 편의 시설\n",
      "- 주차: N\n",
      "- 와이파이: N\n",
      "- 장애인 편의시설: N\n",
      "- 반려동물 출입: N\n",
      "- 화장실: N\n",
      "\n",
      "## 메뉴 정보\n",
      "- 외국어 메뉴 제공: N\n",
      "\n",
      "## 주문 옵션\n",
      "- 배달 서비스: Y\n",
      "- 배달앱 주문: N\n",
      "- 택배 판매: N\n",
      "- 모바일 결제: N\n",
      "- 온라인 예약: N' metadata={'source': './data/food/음식테마거리/RAG_TEST_only_markdown.csv', 'row': 0}\n"
     ]
    }
   ],
   "source": [
    "from langchain_community.document_loaders.csv_loader import CSVLoader\n",
    "\n",
    "# CSV 로더 생성\n",
    "loader = CSVLoader(file_path=\"./data/food/음식테마거리/RAG_TEST_only_markdown.csv\")\n",
    "\n",
    "# 데이터 로드\n",
    "docs = loader.load()\n",
    "\n",
    "print(len(docs))\n",
    "print(docs[0])"
   ]
  },
  {
   "cell_type": "code",
   "execution_count": 5,
   "metadata": {},
   "outputs": [
    {
     "name": "stdout",
     "output_type": "stream",
     "text": [
      "식당 문서 수: 100\n",
      "\n",
      "첫 번째 식당 문서의 내용:\n",
      "markdown_content: # 더밥하우스\n",
      "\n",
      "## 기본 정보\n",
      "- 위치: 부산광역시 사하구 낙동대로516번길 17\n",
      "- 업종: 경양식\n",
      "- 영업허가: 일반음식점\n",
      "- 지역: 부산광역시 사하구\n",
      "\n",
      "## 상세 설명\n",
      "부산광역시 사하구에서 맛집을 찾으신다면 \"더밥하우스\"를 추천합니다.\n",
      "\n",
      "## 운영 정보\n",
      "- 영업시간: 매일 10:00~22:00\n",
      "- 휴무일: 토요일\n",
      "- 네이버 평점: 4.3299999\n",
      "\n",
      "## 편의 시설\n",
      "- 주차: N\n",
      "- 와이파이: N\n",
      "- 장애인 편의시설: N\n",
      "- 반려동물 출입: N\n",
      "- 화장실: N\n",
      "\n",
      "## 메뉴 정보\n",
      "- 외국어 메뉴 제공: N\n",
      "\n",
      "## 주문 옵션\n",
      "- 배달 서비스: Y\n",
      "- 배달앱 주문: N\n",
      "- 택배 판매: N\n",
      "- 모바일 결제: N\n",
      "- 온라인 예약: N\n",
      "\n",
      "첫 번째 식당 문서의 메타데이터:\n",
      "{'RSTR_ID': 112467}\n"
     ]
    }
   ],
   "source": [
    "from langchain.schema import Document\n",
    "\n",
    "def prepare_restaurant_documents(docs):\n",
    "    restaurant_docs = []\n",
    "    for doc in docs:\n",
    "        content = doc.page_content\n",
    "        \n",
    "        # RSTR_ID 값 추출 - BOM 문자를 명시적으로 처리\n",
    "        rstr_id = None\n",
    "        for line in content.split('\\n'):\n",
    "            if line.startswith('\\ufeffRSTR_ID:') or line.startswith('RSTR_ID:'):\n",
    "                rstr_id = int(line.split(':')[1].strip())\n",
    "                break\n",
    "        \n",
    "        # RSTR_ID 줄을 제외한 나머지 내용만 포함\n",
    "        content_lines = [line for line in content.split('\\n') \n",
    "                        if not (line.startswith('\\ufeffRSTR_ID:') or line.startswith('RSTR_ID:'))]\n",
    "        filtered_content = '\\n'.join(content_lines)\n",
    "        \n",
    "        restaurant_docs.append(Document(\n",
    "            page_content=filtered_content.strip(),\n",
    "            metadata={'RSTR_ID': rstr_id}\n",
    "        ))\n",
    "    \n",
    "    return restaurant_docs\n",
    "\n",
    "# 식당 문서 생성\n",
    "restaurant_docs = prepare_restaurant_documents(docs)\n",
    "\n",
    "print(f\"식당 문서 수: {len(restaurant_docs)}\")\n",
    "print(f\"\\n첫 번째 식당 문서의 내용:\\n{restaurant_docs[0].page_content}\")\n",
    "print(f\"\\n첫 번째 식당 문서의 메타데이터:\\n{restaurant_docs[0].metadata}\")"
   ]
  },
  {
   "cell_type": "code",
   "execution_count": 6,
   "metadata": {},
   "outputs": [],
   "source": [
    "# 벡터스토어 생성\n",
    "from langchain_community.vectorstores import FAISS\n",
    "from langchain_openai import OpenAIEmbeddings\n",
    "\n",
    "vectorstore = FAISS.from_documents(\n",
    "    documents=restaurant_docs, \n",
    "    embedding=OpenAIEmbeddings()\n",
    ")\n",
    "\n",
    "# 검색기(retriever) 생성\n",
    "retriever = vectorstore.as_retriever()"
   ]
  },
  {
   "cell_type": "code",
   "execution_count": 7,
   "metadata": {},
   "outputs": [],
   "source": [
    "from langchain_core.prompts import PromptTemplate\n",
    "from langchain_core.output_parsers import StrOutputParser\n",
    "from langchain_core.runnables import RunnablePassthrough\n",
    "from langchain_openai import ChatOpenAI\n",
    "\n",
    "# 프롬프트 템플릿 정의 - 여러 식당을 추천하도록\n",
    "restaurant_finder_template = \"\"\"\n",
    "당신은 레스토랑 추천 AI입니다. 주어진 맥락을 바탕으로 사용자의 질문에 답변해주세요.\n",
    "\n",
    "다음은 레스토랑에 대한 정보입니다:\n",
    "{restaurant_info}\n",
    "\n",
    "사용자 질문: {user_request}\n",
    "\n",
    "다음 지침을 따라 답변해주세요:\n",
    "1. 조건에 맞는 식당을 2-3개 추천해주세요.\n",
    "2. 각 식당의 이름을 정확히 큰따옴표로 감싸서 언급해주세요. (예: \"더밥하우스\")\n",
    "3. 각 식당의 주요 특징을 간단히 설명해주세요.\n",
    "\n",
    "레스토랑 정보를 바탕으로 사용자의 질문에 답변해주세요.\n",
    "\"\"\"\n",
    "\n",
    "prompt = PromptTemplate.from_template(restaurant_finder_template)\n",
    "\n",
    "# LLM 설정\n",
    "llm = ChatOpenAI(model_name=\"gpt-4o\", temperature=0.2)"
   ]
  },
  {
   "cell_type": "code",
   "execution_count": 8,
   "metadata": {},
   "outputs": [
    {
     "name": "stdout",
     "output_type": "stream",
     "text": [
      "부산에서 네이버 평점이 좋은 맛집을 추천드리겠습니다.\n",
      "\n",
      "1. \"감성키친(부산남구점)\" - 이 식당은 부산광역시 남구에 위치해 있으며, 네이버 평점이 4.63으로 높은 평가를 받고 있습니다. 매일 10:00부터 22:00까지 운영하며, 주차 시설이 제공됩니다.\n",
      "\n",
      "2. \"청킹익스프레스\" - 부산광역시 부산진구에 위치한 이 식당은 네이버 평점이 4.25입니다. 다양한 맛을 즐길 수 있는 곳으로 추천드립니다.\n",
      "\n",
      "3. \"명륜진사갈비(당감점)\" - 부산광역시 부산진구에 위치한 식육(숯불구이) 전문점으로, 네이버 평점은 4.15입니다. 평일과 공휴일에 따라 영업시간이 다르며, 주차 시설과 화장실이 제공됩니다. 배달 서비스도 가능합니다.\n",
      "\n",
      "이 세 곳 모두 부산에서 맛있는 음식을 즐길 수 있는 좋은 선택지입니다.\n"
     ]
    }
   ],
   "source": [
    "# RAG 체인 생성\n",
    "rag_chain = (\n",
    "    {\n",
    "        \"restaurant_info\": retriever,\n",
    "        \"user_request\": RunnablePassthrough()\n",
    "    }\n",
    "    | prompt\n",
    "    | llm\n",
    "    | StrOutputParser()\n",
    ")\n",
    "\n",
    "# 체인 테스트\n",
    "user_request = \"부산에서 네이버평점이 좋은 맛집을 추천해주세요.\"\n",
    "\n",
    "answer = rag_chain.invoke(user_request)\n",
    "print(answer)"
   ]
  },
  {
   "cell_type": "code",
   "execution_count": 11,
   "metadata": {},
   "outputs": [
    {
     "name": "stdout",
     "output_type": "stream",
     "text": [
      "사용자에게 보여줄 답변:\n",
      "부산에서 네이버 평점이 좋은 맛집을 추천드리겠습니다:\n",
      "\n",
      "1. \"감성키친(부산남구점)\": 이 식당은 부산광역시 남구에 위치하고 있으며, 네이버 평점이 4.63으로 높은 평가를 받고 있습니다. 매일 10:00부터 22:00까지 운영하며, 주차 시설이 제공됩니다.\n",
      "\n",
      "2. \"청킹익스프레스\": 부산광역시 부산진구에 위치한 이 식당은 네이버 평점이 4.25입니다. 주차, 와이파이, 장애인 편의시설 등은 제공되지 않지만, 맛집으로 추천할 만한 곳입니다.\n",
      "\n",
      "3. \"명륜진사갈비(당감점)\": 부산광역시 부산진구에 위치한 이 식당은 식육(숯불구이) 전문점으로, 네이버 평점이 4.15입니다. 평일과 공휴일에 영업시간이 다르며, 주차와 화장실 시설이 제공됩니다. 배달 서비스도 가능합니다.\n",
      "\n",
      "이 세 곳 모두 부산에서 맛집으로 추천할 만한 곳입니다.\n",
      "\n",
      "백엔드에 전달할 식당 ID:\n",
      "[966633, 947475, 687805]\n"
     ]
    }
   ],
   "source": [
    "def process_restaurant_response(retriever_output, llm_response: str) -> Dict[str, Any]:\n",
    "    \"\"\"\n",
    "    LLM 응답에서 언급된 식당의 ID만 추출합니다.\n",
    "    \"\"\"\n",
    "    mentioned_restaurants = {}\n",
    "    \n",
    "    # 검색된 문서들에서 식당 이름과 ID를 매핑\n",
    "    for doc in retriever_output:\n",
    "        content = doc.page_content\n",
    "        rstr_id = doc.metadata['RSTR_ID']\n",
    "        \n",
    "        # markdown_content 필드에서 식당 이름 추출\n",
    "        if 'markdown_content:' in content:\n",
    "            content = content.split('markdown_content:')[1].strip()\n",
    "        \n",
    "        # 식당 이름 추출 (마크다운 첫 번째 헤딩에서)\n",
    "        lines = content.split('\\n')\n",
    "        for line in lines:\n",
    "            line = line.strip()\n",
    "            if line.startswith('# '):\n",
    "                restaurant_name = line.replace('# ', '').strip()\n",
    "                mentioned_restaurants[restaurant_name] = rstr_id\n",
    "                break\n",
    "    \n",
    "    # LLM 응답에서 언급된 식당 ID만 수집\n",
    "    response_restaurant_ids = []\n",
    "    for restaurant_name in mentioned_restaurants.keys():\n",
    "        quoted_name = f'\"{restaurant_name}\"'\n",
    "        if quoted_name in llm_response:\n",
    "            response_restaurant_ids.append(mentioned_restaurants[restaurant_name])\n",
    "    \n",
    "    return {\n",
    "        \"answer\": llm_response,\n",
    "        \"restaurant_ids\": response_restaurant_ids\n",
    "    }\n",
    "    \n",
    "    \n",
    "# 프롬프트 템플릿 수정 - 여러 식당을 추천하도록\n",
    "restaurant_finder_template = \"\"\"\n",
    "당신은 레스토랑 추천 AI입니다. 주어진 맥락을 바탕으로 사용자의 질문에 답변해주세요.\n",
    "\n",
    "다음은 레스토랑에 대한 정보입니다:\n",
    "{restaurant_info}\n",
    "\n",
    "사용자 질문: {user_request}\n",
    "\n",
    "다음 지침을 따라 답변해주세요:\n",
    "1. 조건에 맞는 식당을 2-3개 추천해주세요.\n",
    "2. 각 식당의 이름을 정확히 큰따옴표로 감싸서 언급해주세요. (예: \"더밥하우스\")\n",
    "3. 각 식당의 주요 특징을 간단히 설명해주세요.\n",
    "\n",
    "레스토랑 정보를 바탕으로 사용자의 질문에 답변해주세요.\n",
    "\"\"\"\n",
    "\n",
    "prompt = PromptTemplate.from_template(restaurant_finder_template)\n",
    "\n",
    "# 나머지 체인 구성 코드는 동일...\n",
    "\n",
    "\n",
    "# 검색 체인 구성\n",
    "retrieval_chain = RunnableParallel(\n",
    "    {\"context\": retriever, \"question\": RunnablePassthrough()}\n",
    ")\n",
    "\n",
    "# 응답 생성 체인\n",
    "response_chain = (\n",
    "    {\n",
    "        \"restaurant_info\": lambda x: x[\"context\"],\n",
    "        \"user_request\": lambda x: x[\"question\"]\n",
    "    }\n",
    "    | prompt \n",
    "    | llm \n",
    "    | StrOutputParser()\n",
    ")\n",
    "\n",
    "# 최종 체인 구성\n",
    "def final_processor(input_dict):\n",
    "    question = input_dict[\"question\"]\n",
    "    docs = retriever.get_relevant_documents(question)\n",
    "    response = response_chain.invoke(input_dict)\n",
    "    return process_restaurant_response(docs, response)\n",
    "\n",
    "rag_chain = retrieval_chain | final_processor\n",
    "\n",
    "# 테스트\n",
    "user_request = \"부산에서 네이버평점이 좋은 맛집을 추천해주세요.\"\n",
    "result = rag_chain.invoke(user_request)\n",
    "\n",
    "print(\"사용자에게 보여줄 답변:\")\n",
    "print(result[\"answer\"])\n",
    "print(\"\\n백엔드에 전달할 식당 ID:\")\n",
    "print(result[\"restaurant_ids\"])"
   ]
  }
 ],
 "metadata": {
  "kernelspec": {
   "display_name": "cv",
   "language": "python",
   "name": "python3"
  },
  "language_info": {
   "codemirror_mode": {
    "name": "ipython",
    "version": 3
   },
   "file_extension": ".py",
   "mimetype": "text/x-python",
   "name": "python",
   "nbconvert_exporter": "python",
   "pygments_lexer": "ipython3",
   "version": "3.12.3"
  }
 },
 "nbformat": 4,
 "nbformat_minor": 2
}
